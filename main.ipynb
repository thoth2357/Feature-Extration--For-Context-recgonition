{
 "cells": [
  {
   "cell_type": "code",
   "execution_count": 1,
   "metadata": {},
   "outputs": [],
   "source": [
    "import feature_module\n",
    "import load_dataset_module as dataset_module\n",
    "import importlib"
   ]
  },
  {
   "cell_type": "code",
   "execution_count": 2,
   "metadata": {},
   "outputs": [],
   "source": [
    "#this was used to reload the dataset loading\n",
    "importlib.reload(dataset_module)\n",
    "activity_data = dataset_module.ActivityData() #getting parsed data "
   ]
  },
  {
   "cell_type": "code",
   "execution_count": 3,
   "metadata": {},
   "outputs": [
    {
     "name": "stdout",
     "output_type": "stream",
     "text": [
      "Welcome to Feature extraction!\n",
      "Computing features...\n",
      "\n",
      "Feature completed.Check extracted_features folder\n"
     ]
    }
   ],
   "source": [
    "def main():\n",
    "    print('Welcome to Feature extraction!')\n",
    "    try:\n",
    "        feature = input('Enter no corresponding to the feature you want to extract\\n1\\t mean \\n2\\t variance \\n3\\t median \\n4\\t standard deviation \\n5\\t root mean square \\n6\\t Zero crossing \\n7\\t sum of squares \\n8\\t covariance\\n')\n",
    "        if feature == '1':\n",
    "            feature_module.write_features_to_csv('1', activity_data)\n",
    "        elif feature == '2':\n",
    "            feature_module.write_features_to_csv('2', activity_data)\n",
    "        elif feature == '3':\n",
    "            feature_module.write_features_to_csv('3', activity_data)\n",
    "        elif feature == '4':\n",
    "            feature_module.write_features_to_csv('4', activity_data)\n",
    "        elif feature == '5':\n",
    "            feature_module.write_features_to_csv('5', activity_data)\n",
    "        elif feature == '6':\n",
    "            feature_module.write_features_to_csv('6', activity_data)\n",
    "        elif feature == '7':\n",
    "            feature_module.write_features_to_csv('7', activity_data)\n",
    "        elif feature == '8':\n",
    "            feature_module.write_features_to_csv('8', activity_data)\n",
    "        else:\n",
    "            raise Exception('feature inputs Wrong!!!')\n",
    "    except Exception as e:\n",
    "        print(e)\n",
    "\n",
    "#calling main function\n",
    "main()"
   ]
  }
 ],
 "metadata": {
  "kernelspec": {
   "display_name": "Python 3.9.7 ('base')",
   "language": "python",
   "name": "python3"
  },
  "language_info": {
   "codemirror_mode": {
    "name": "ipython",
    "version": 3
   },
   "file_extension": ".py",
   "mimetype": "text/x-python",
   "name": "python",
   "nbconvert_exporter": "python",
   "pygments_lexer": "ipython3",
   "version": "3.9.7"
  },
  "orig_nbformat": 4,
  "vscode": {
   "interpreter": {
    "hash": "f36c4c404d941da2eed8464810712bf5a89a51e45cbe8a32d726d38cf6c714b2"
   }
  }
 },
 "nbformat": 4,
 "nbformat_minor": 2
}
